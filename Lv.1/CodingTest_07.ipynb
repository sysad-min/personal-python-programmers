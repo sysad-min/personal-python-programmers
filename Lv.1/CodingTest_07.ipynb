{
 "cells": [
  {
   "cell_type": "markdown",
   "id": "bef60bfc",
   "metadata": {},
   "source": [
    "# 숫자 문자열과 영단어"
   ]
  },
  {
   "cell_type": "markdown",
   "id": "7e3b0039",
   "metadata": {},
   "source": [
    "문제 설명\n",
    "네오와 프로도가 숫자놀이를 하고 있습니다.  \n",
    "네오가 프로도에게 숫자를 건넬 때 일부 자릿수를 영단어로 바꾼 카드를 건네주면 프로도는 원래 숫자를 찾는 게임입니다.\n",
    "\n",
    "다음은 숫자의 일부 자릿수를 영단어로 바꾸는 예시입니다.  \n",
    "1478 → \"one4seveneight\"  \n",
    "234567 → \"23four5six7\"  \n",
    "10203 → \"1zerotwozero3\"  \n",
    "이렇게 숫자의 일부 자릿수가 영단어로 바뀌어졌거나, 혹은 바뀌지 않고 그대로인 문자열 s가 매개변수로 주어집니다.   \n",
    "s가 의미하는 원래 숫자를 return 하도록 solution 함수를 완성해주세요.\n",
    "\n",
    "참고로 각 숫자에 대응되는 영단어는 다음 표와 같습니다.\n",
    "\n",
    "숫자\t영단어  \n",
    "0\tzero  \n",
    "1\tone  \n",
    "2\ttwo  \n",
    "3\tthree  \n",
    "4\tfour  \n",
    "5\tfive  \n",
    "6\tsix  \n",
    "7\tseven  \n",
    "8\teight  \n",
    "9\tnine  \n",
    "\n",
    "제한사항  \n",
    "1 ≤ s의 길이 ≤ 50  \n",
    "s가 \"zero\" 또는 \"0\"으로 시작하는 경우는 주어지지 않습니다.  \n",
    "return 값이 1 이상 2,000,000,000 이하의 정수가 되는 올바른 입력만 s로 주어집니다.  \n",
    "\n",
    "입출력 예  \n",
    "s\tresult  \n",
    "\"one4seveneight\"\t1478  \n",
    "\"23four5six7\"\t234567  \n",
    "\"2three45sixseven\"\t234567  \n",
    "\"123\"\t123  \n",
    "입출력 예 설명  \n",
    "입출력 예 #1  \n",
    "문제 예시와 같습니다.  \n",
    "입출력 예 #2  \n",
    "문제 예시와 같습니다.  \n",
    "입출력 예 #3  \n",
    "\"three\"는 3, \"six\"는 6, \"seven\"은 7에 대응되기 때문에 정답은 입출력 예 #2와 같은 234567이 됩니다.  \n",
    "입출력 예 #2와 #3과 같이 같은 정답을 가리키는 문자열이 여러 가지가 나올 수 있습니다.  \n",
    "입출력 예 #4  \n",
    "s에는 영단어로 바뀐 부분이 없습니다.  \n",
    "\n",
    "제한시간 안내  \n",
    "정확성 테스트 : 10초  "
   ]
  },
  {
   "cell_type": "code",
   "execution_count": 1,
   "id": "709860f3",
   "metadata": {},
   "outputs": [],
   "source": [
    "def solution(s):\n",
    "    dic = {'zero':0, 'one':1, 'two':2, 'three':3, 'four':4\n",
    "           , 'five':5, 'six':6, 'seven':7, 'eight':8, 'nine':9}\n",
    "    \n",
    "    for word in list(dic.keys()):\n",
    "        if s.find(word) != -1:\n",
    "            s = s.replace(str(word), str(dic[word]))\n",
    "        \n",
    "    return int(s)"
   ]
  },
  {
   "cell_type": "code",
   "execution_count": 3,
   "id": "42aa4cc5",
   "metadata": {},
   "outputs": [
    {
     "data": {
      "text/plain": [
       "1478"
      ]
     },
     "execution_count": 3,
     "metadata": {},
     "output_type": "execute_result"
    }
   ],
   "source": [
    "solution(\"one4seveneight\")"
   ]
  },
  {
   "cell_type": "code",
   "execution_count": 4,
   "id": "fbf7d50b",
   "metadata": {},
   "outputs": [
    {
     "data": {
      "text/plain": [
       "234567"
      ]
     },
     "execution_count": 4,
     "metadata": {},
     "output_type": "execute_result"
    }
   ],
   "source": [
    "solution(\"23four5six7\")"
   ]
  },
  {
   "cell_type": "code",
   "execution_count": 6,
   "id": "8f76d71b",
   "metadata": {},
   "outputs": [
    {
     "data": {
      "text/plain": [
       "234567"
      ]
     },
     "execution_count": 6,
     "metadata": {},
     "output_type": "execute_result"
    }
   ],
   "source": [
    "solution(\"2three45sixseven\")"
   ]
  },
  {
   "cell_type": "code",
   "execution_count": 7,
   "id": "a2aacc38",
   "metadata": {},
   "outputs": [
    {
     "data": {
      "text/plain": [
       "123"
      ]
     },
     "execution_count": 7,
     "metadata": {},
     "output_type": "execute_result"
    }
   ],
   "source": [
    "solution(\"123\")"
   ]
  },
  {
   "cell_type": "code",
   "execution_count": null,
   "id": "b108e39e",
   "metadata": {},
   "outputs": [],
   "source": []
  }
 ],
 "metadata": {
  "kernelspec": {
   "display_name": "py3.7_programmers",
   "language": "python",
   "name": "py3.7_programmers"
  },
  "language_info": {
   "codemirror_mode": {
    "name": "ipython",
    "version": 3
   },
   "file_extension": ".py",
   "mimetype": "text/x-python",
   "name": "python",
   "nbconvert_exporter": "python",
   "pygments_lexer": "ipython3",
   "version": "3.7.12"
  }
 },
 "nbformat": 4,
 "nbformat_minor": 5
}
