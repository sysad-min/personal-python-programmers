{
 "cells": [
  {
   "cell_type": "markdown",
   "id": "bef60bfc",
   "metadata": {},
   "source": [
    "# 짝수와 홀수"
   ]
  },
  {
   "cell_type": "markdown",
   "id": "7e3b0039",
   "metadata": {},
   "source": [
    "문제 설명  \n",
    "정수 num이 짝수일 경우 \"Even\"을 반환하고 홀수인 경우 \"Odd\"를 반환하는 함수, solution을 완성해주세요.  \n",
    "\n",
    "제한 조건  \n",
    "num은 int 범위의 정수입니다.  \n",
    "0은 짝수입니다.  \n",
    "\n",
    "입출력 예  \n",
    "num\treturn  \n",
    "3\t\"Odd\"  \n",
    "4\t\"Even\"  "
   ]
  },
  {
   "cell_type": "code",
   "execution_count": 1,
   "id": "709860f3",
   "metadata": {},
   "outputs": [],
   "source": [
    "def solution(num):\n",
    "    answer = ''\n",
    "    if num == 0 or num%2 == 0:\n",
    "        answer = \"Even\"\n",
    "    else:\n",
    "        answer = \"Odd\"\n",
    "\n",
    "    return answer"
   ]
  },
  {
   "cell_type": "code",
   "execution_count": 2,
   "id": "42aa4cc5",
   "metadata": {},
   "outputs": [
    {
     "data": {
      "text/plain": [
       "'Odd'"
      ]
     },
     "execution_count": 2,
     "metadata": {},
     "output_type": "execute_result"
    }
   ],
   "source": [
    "solution(3)"
   ]
  },
  {
   "cell_type": "code",
   "execution_count": 3,
   "id": "fbf7d50b",
   "metadata": {},
   "outputs": [
    {
     "data": {
      "text/plain": [
       "'Even'"
      ]
     },
     "execution_count": 3,
     "metadata": {},
     "output_type": "execute_result"
    }
   ],
   "source": [
    "solution(4)"
   ]
  },
  {
   "cell_type": "code",
   "execution_count": null,
   "id": "8f76d71b",
   "metadata": {},
   "outputs": [],
   "source": []
  }
 ],
 "metadata": {
  "kernelspec": {
   "display_name": "py3.7_programmers",
   "language": "python",
   "name": "py3.7_programmers"
  },
  "language_info": {
   "codemirror_mode": {
    "name": "ipython",
    "version": 3
   },
   "file_extension": ".py",
   "mimetype": "text/x-python",
   "name": "python",
   "nbconvert_exporter": "python",
   "pygments_lexer": "ipython3",
   "version": "3.7.12"
  }
 },
 "nbformat": 4,
 "nbformat_minor": 5
}
