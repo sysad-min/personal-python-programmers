{
 "cells": [
  {
   "cell_type": "markdown",
   "id": "4bc5706e",
   "metadata": {},
   "source": [
    "# 직사각형 별찍기"
   ]
  },
  {
   "cell_type": "markdown",
   "id": "40309834",
   "metadata": {},
   "source": [
    "이 문제에는 표준 입력으로 두 개의 정수 n과 m이 주어집니다.  \n",
    "별(*) 문자를 이용해 가로의 길이가 n, 세로의 길이가 m인 직사각형 형태를 출력해보세요.  \n",
    "\n",
    "제한 조건  \n",
    "n과 m은 각각 1000 이하인 자연수입니다.  \n",
    "\n",
    "예시  \n",
    "입력  \n",
    "5 3  \n",
    "\n",
    "출력  \n",
    "&#42;&#42;&#42;&#42;&#42;  \n",
    "&#42;&#42;&#42;&#42;&#42;  \n",
    "&#42;&#42;&#42;&#42;&#42;  "
   ]
  },
  {
   "cell_type": "code",
   "execution_count": 1,
   "id": "0ca4818d",
   "metadata": {},
   "outputs": [
    {
     "name": "stdout",
     "output_type": "stream",
     "text": [
      "5 3\n",
      "*****\n",
      "*****\n",
      "*****\n"
     ]
    }
   ],
   "source": [
    "a, b = map(int, input().strip().split(' '))\n",
    "\n",
    "tmp_list = []\n",
    "for row in range(b):\n",
    "    for column in range(a):\n",
    "        tmp_list.append('*')\n",
    "    print(''.join(tmp_list))\n",
    "    tmp_list.clear()"
   ]
  },
  {
   "cell_type": "code",
   "execution_count": null,
   "id": "b2aeb0ce",
   "metadata": {},
   "outputs": [],
   "source": []
  }
 ],
 "metadata": {
  "kernelspec": {
   "display_name": "py3.7_programmers",
   "language": "python",
   "name": "py3.7_programmers"
  },
  "language_info": {
   "codemirror_mode": {
    "name": "ipython",
    "version": 3
   },
   "file_extension": ".py",
   "mimetype": "text/x-python",
   "name": "python",
   "nbconvert_exporter": "python",
   "pygments_lexer": "ipython3",
   "version": "3.7.12"
  }
 },
 "nbformat": 4,
 "nbformat_minor": 5
}
