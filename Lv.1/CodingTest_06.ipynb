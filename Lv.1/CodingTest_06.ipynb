{
 "cells": [
  {
   "cell_type": "markdown",
   "id": "8aecfa32",
   "metadata": {},
   "source": [
    "# 없는 숫자 더하기"
   ]
  },
  {
   "cell_type": "markdown",
   "id": "5ebdceb2",
   "metadata": {},
   "source": [
    "문제 설명  \n",
    "0부터 9까지의 숫자 중 일부가 들어있는 정수 배열 numbers가 매개변수로 주어집니다. numbers에서 찾을 수 없는 0부터 9까지의 숫자를 모두 찾아 더한 수를 return 하도록 solution 함수를 완성해주세요.  \n",
    "\n",
    "제한사항  \n",
    "1 ≤ numbers의 길이 ≤ 9  \n",
    "0 ≤ numbers의 모든 원소 ≤ 9  \n",
    "numbers의 모든 원소는 서로 다릅니다.  \n",
    "\n",
    "입출력 예  \n",
    "numbers\tresult  \n",
    "[1,2,3,4,6,7,8,0]\t14  \n",
    "[5,8,4,0,6,7,9]\t    6  \n",
    "\n",
    "입출력 예 설명  \n",
    "입출력 예 #1  \n",
    "5, 9가 numbers에 없으므로, 5 + 9 = 14를 return 해야 합니다.  \n",
    "\n",
    "입출력 예 #2  \n",
    "1, 2, 3이 numbers에 없으므로, 1 + 2 + 3 = 6을 return 해야 합니다.  \n"
   ]
  },
  {
   "cell_type": "code",
   "execution_count": 1,
   "id": "aa7772f5",
   "metadata": {},
   "outputs": [],
   "source": [
    "def solution(numbers):\n",
    "    answer = 0\n",
    "    for no in range(10):\n",
    "        if no not in numbers:\n",
    "            answer+=no\n",
    "    \n",
    "    return answer"
   ]
  },
  {
   "cell_type": "code",
   "execution_count": 2,
   "id": "07f4aea3",
   "metadata": {},
   "outputs": [
    {
     "data": {
      "text/plain": [
       "14"
      ]
     },
     "execution_count": 2,
     "metadata": {},
     "output_type": "execute_result"
    }
   ],
   "source": [
    "solution([1,2,3,4,6,7,8,0])"
   ]
  },
  {
   "cell_type": "code",
   "execution_count": 3,
   "id": "172eeeab",
   "metadata": {},
   "outputs": [
    {
     "data": {
      "text/plain": [
       "6"
      ]
     },
     "execution_count": 3,
     "metadata": {},
     "output_type": "execute_result"
    }
   ],
   "source": [
    "solution([5,8,4,0,6,7,9])"
   ]
  },
  {
   "cell_type": "code",
   "execution_count": null,
   "id": "695254e2",
   "metadata": {},
   "outputs": [],
   "source": []
  }
 ],
 "metadata": {
  "kernelspec": {
   "display_name": "py3.7_programmers",
   "language": "python",
   "name": "py3.7_programmers"
  },
  "language_info": {
   "codemirror_mode": {
    "name": "ipython",
    "version": 3
   },
   "file_extension": ".py",
   "mimetype": "text/x-python",
   "name": "python",
   "nbconvert_exporter": "python",
   "pygments_lexer": "ipython3",
   "version": "3.7.12"
  }
 },
 "nbformat": 4,
 "nbformat_minor": 5
}
