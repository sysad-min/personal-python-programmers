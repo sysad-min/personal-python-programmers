{
 "cells": [
  {
   "cell_type": "markdown",
   "id": "bb69cbe3",
   "metadata": {},
   "source": [
    "# 나머지가 1이 되는 수 찾기"
   ]
  },
  {
   "cell_type": "markdown",
   "id": "878da778",
   "metadata": {},
   "source": [
    "문제 설명  \n",
    "\n",
    "자연수 n이 매개변수로 주어집니다. n을 x로 나눈 나머지가 1이 되도록 하는 가장 작은 자연수 x를 return 하도록 solution 함수를 완성해주세요. 답이 항상 존재함은 증명될 수 있습니다.\n",
    "제한사항  \n",
    "3 ≤ n ≤ 1,000,000  \n",
    "입출력 예  \n",
    "n\tresult  \n",
    "10\t3  \n",
    "12\t11  \n",
    "입출력 예 설명  \n",
    "입출력 예 #1  \n",
    "10을 3으로 나눈 나머지가 1이고, 3보다 작은 자연수 중에서 문제의 조건을 만족하는 수가 없으므로, 3을 return 해야 합니다.  \n",
    "입출력 예 #2  \n",
    "12를 11로 나눈 나머지가 1이고, 11보다 작은 자연수 중에서 문제의 조건을 만족하는 수가 없으므로, 11을 return 해야 합니다.  "
   ]
  },
  {
   "cell_type": "code",
   "execution_count": 4,
   "id": "86ba5401",
   "metadata": {},
   "outputs": [],
   "source": [
    "def solution(n):\n",
    "    answer = 0\n",
    "    x = 1\n",
    "    while True:\n",
    "        if n%x == 1:\n",
    "            answer=x\n",
    "            break\n",
    "        else:\n",
    "            x+=1\n",
    "    \n",
    "    return answer"
   ]
  },
  {
   "cell_type": "code",
   "execution_count": 5,
   "id": "4e9b9702",
   "metadata": {},
   "outputs": [
    {
     "data": {
      "text/plain": [
       "3"
      ]
     },
     "execution_count": 5,
     "metadata": {},
     "output_type": "execute_result"
    }
   ],
   "source": [
    "solution(10)"
   ]
  },
  {
   "cell_type": "code",
   "execution_count": 7,
   "id": "eed208d0",
   "metadata": {},
   "outputs": [
    {
     "data": {
      "text/plain": [
       "11"
      ]
     },
     "execution_count": 7,
     "metadata": {},
     "output_type": "execute_result"
    }
   ],
   "source": [
    "solution(12)"
   ]
  },
  {
   "cell_type": "code",
   "execution_count": null,
   "id": "cb2549e1",
   "metadata": {},
   "outputs": [],
   "source": []
  }
 ],
 "metadata": {
  "kernelspec": {
   "display_name": "py3.7_programmers",
   "language": "python",
   "name": "py3.7_programmers"
  },
  "language_info": {
   "codemirror_mode": {
    "name": "ipython",
    "version": 3
   },
   "file_extension": ".py",
   "mimetype": "text/x-python",
   "name": "python",
   "nbconvert_exporter": "python",
   "pygments_lexer": "ipython3",
   "version": "3.7.12"
  }
 },
 "nbformat": 4,
 "nbformat_minor": 5
}
