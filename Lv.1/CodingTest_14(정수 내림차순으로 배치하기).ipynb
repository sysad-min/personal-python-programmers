{
 "cells": [
  {
   "cell_type": "markdown",
   "id": "bb69cbe3",
   "metadata": {},
   "source": [
    "# 정수 내림차순으로 배치하기"
   ]
  },
  {
   "cell_type": "markdown",
   "id": "878da778",
   "metadata": {},
   "source": [
    "문제 설명  \n",
    "\n",
    "함수 solution은 정수 n을 매개변수로 입력받습니다. n의 각 자릿수를 큰것부터 작은 순으로 정렬한 새로운 정수를 리턴해주세요. 예를들어 n이 118372면 873211을 리턴하면 됩니다.  \n",
    "제한 조건  \n",
    "n은 1이상 8000000000 이하인 자연수입니다.  \n",
    "입출력 예  \n",
    "n\treturn  \n",
    "118372\t873211  "
   ]
  },
  {
   "cell_type": "code",
   "execution_count": 1,
   "id": "86ba5401",
   "metadata": {},
   "outputs": [],
   "source": [
    "def solution(n):\n",
    "    list_n = list(str(int(n)))\n",
    "    list_n.sort(reverse=True)\n",
    "    \n",
    "    return int(\"\".join(list_n))"
   ]
  },
  {
   "cell_type": "code",
   "execution_count": 2,
   "id": "4e9b9702",
   "metadata": {},
   "outputs": [
    {
     "data": {
      "text/plain": [
       "873211"
      ]
     },
     "execution_count": 2,
     "metadata": {},
     "output_type": "execute_result"
    }
   ],
   "source": [
    "solution(118372)"
   ]
  }
 ],
 "metadata": {
  "kernelspec": {
   "display_name": "py3.7_programmers",
   "language": "python",
   "name": "py3.7_programmers"
  },
  "language_info": {
   "codemirror_mode": {
    "name": "ipython",
    "version": 3
   },
   "file_extension": ".py",
   "mimetype": "text/x-python",
   "name": "python",
   "nbconvert_exporter": "python",
   "pygments_lexer": "ipython3",
   "version": "3.7.12"
  }
 },
 "nbformat": 4,
 "nbformat_minor": 5
}
