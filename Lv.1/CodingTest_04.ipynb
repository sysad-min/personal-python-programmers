{
 "cells": [
  {
   "cell_type": "markdown",
   "id": "8aecfa32",
   "metadata": {},
   "source": [
    "# 이상한 문자 만들기"
   ]
  },
  {
   "cell_type": "markdown",
   "id": "5ebdceb2",
   "metadata": {},
   "source": [
    "문제 설명  \n",
    "문자열 s는 한 개 이상의 단어로 구성되어 있습니다. 각 단어는 하나 이상의 공백문자로 구분되어 있습니다. 각 단어의 짝수번째 알파벳은 대문자로, 홀수번째 알파벳은 소문자로 바꾼 문자열을 리턴하는 함수, solution을 완성하세요.  \n",
    "\n",
    "제한 사항  \n",
    "문자열 전체의 짝/홀수 인덱스가 아니라, 단어(공백을 기준)별로 짝/홀수 인덱스를 판단해야합니다.  \n",
    "첫 번째 글자는 0번째 인덱스로 보아 짝수번째 알파벳으로 처리해야 합니다.  \n",
    "\n",
    "입출력 예  \n",
    "s\treturn  \n",
    "\"try hello world\"\t\"TrY HeLlO WoRlD\"  \n",
    "\n",
    "입출력 예 설명  \n",
    "\"try hello world\"는 세 단어 \"try\", \"hello\", \"world\"로 구성되어 있습니다.   각 단어의 짝수번째 문자를 대문자로, 홀수번째 문자를 소문자로 바꾸면 \"TrY\", \"HeLlO\", \"WoRlD\"입니다. 따라서 \"TrY HeLlO WoRlD\" 를 리턴합니다."
   ]
  },
  {
   "cell_type": "code",
   "execution_count": 1,
   "id": "aa7772f5",
   "metadata": {},
   "outputs": [],
   "source": [
    "def solution(s):\n",
    "    \n",
    "    list_s = s.split(' ')\n",
    "    list_tmp = []\n",
    "    for idx, val in enumerate(list_s):\n",
    "        for val_idx in range(len(val)):\n",
    "            if (val_idx%2)==0:\n",
    "                list_tmp.append(val[val_idx].upper())\n",
    "            else:\n",
    "                list_tmp.append(val[val_idx].lower())\n",
    "        list_s[idx] = ''.join(list_tmp)\n",
    "        list_tmp.clear()\n",
    "\n",
    "    answer = ' '.join(list_s)\n",
    "    return answer"
   ]
  },
  {
   "cell_type": "code",
   "execution_count": 3,
   "id": "07f4aea3",
   "metadata": {},
   "outputs": [
    {
     "data": {
      "text/plain": [
       "'TrY HeLlO WoRlD'"
      ]
     },
     "execution_count": 3,
     "metadata": {},
     "output_type": "execute_result"
    }
   ],
   "source": [
    "solution(\"try hello world\")"
   ]
  },
  {
   "cell_type": "markdown",
   "id": "51cd2426",
   "metadata": {},
   "source": [
    "## 공백이 여러개 있는 경우, 맨 마지막에 공백이 있는 경우"
   ]
  },
  {
   "cell_type": "code",
   "execution_count": 5,
   "id": "172eeeab",
   "metadata": {},
   "outputs": [
    {
     "data": {
      "text/plain": [
       "'TrY  HeLlO  WoRlD '"
      ]
     },
     "execution_count": 5,
     "metadata": {},
     "output_type": "execute_result"
    }
   ],
   "source": [
    "solution(\"try  hello  world \")"
   ]
  },
  {
   "cell_type": "code",
   "execution_count": null,
   "id": "695254e2",
   "metadata": {},
   "outputs": [],
   "source": []
  }
 ],
 "metadata": {
  "kernelspec": {
   "display_name": "py3.7_programmers",
   "language": "python",
   "name": "py3.7_programmers"
  },
  "language_info": {
   "codemirror_mode": {
    "name": "ipython",
    "version": 3
   },
   "file_extension": ".py",
   "mimetype": "text/x-python",
   "name": "python",
   "nbconvert_exporter": "python",
   "pygments_lexer": "ipython3",
   "version": "3.7.12"
  }
 },
 "nbformat": 4,
 "nbformat_minor": 5
}
