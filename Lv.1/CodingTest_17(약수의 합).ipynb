{
 "cells": [
  {
   "cell_type": "markdown",
   "id": "bb69cbe3",
   "metadata": {},
   "source": [
    "# 약수의 합"
   ]
  },
  {
   "cell_type": "markdown",
   "id": "878da778",
   "metadata": {},
   "source": [
    "문제 설명  \n",
    "\n",
    "정수 n을 입력받아 n의 약수를 모두 더한 값을 리턴하는 함수, solution을 완성해주세요.  \n",
    "제한 사항  \n",
    "n은 0 이상 3000이하인 정수입니다.  \n",
    "입출력 예  \n",
    "n\treturn  \n",
    "12\t28  \n",
    "5\t6  \n",
    "입출력 예 설명  \n",
    "입출력 예 #1  \n",
    "12의 약수는 1, 2, 3, 4, 6, 12입니다. 이를 모두 더하면 28입니다.  \n",
    "입출력 예 #2  \n",
    "5의 약수는 1, 5입니다. 이를 모두 더하면 6입니다.  "
   ]
  },
  {
   "cell_type": "code",
   "execution_count": 1,
   "id": "86ba5401",
   "metadata": {},
   "outputs": [],
   "source": [
    "def solution(n):\n",
    "    return (sum([i+1 for i in range(n) if n%(i+1) == 0]))"
   ]
  },
  {
   "cell_type": "code",
   "execution_count": 2,
   "id": "4e9b9702",
   "metadata": {},
   "outputs": [
    {
     "data": {
      "text/plain": [
       "28"
      ]
     },
     "execution_count": 2,
     "metadata": {},
     "output_type": "execute_result"
    }
   ],
   "source": [
    "solution(12)"
   ]
  },
  {
   "cell_type": "code",
   "execution_count": 3,
   "id": "1c4e08ee",
   "metadata": {},
   "outputs": [
    {
     "data": {
      "text/plain": [
       "6"
      ]
     },
     "execution_count": 3,
     "metadata": {},
     "output_type": "execute_result"
    }
   ],
   "source": [
    "solution(5)"
   ]
  }
 ],
 "metadata": {
  "kernelspec": {
   "display_name": "py3.7_programmers",
   "language": "python",
   "name": "py3.7_programmers"
  },
  "language_info": {
   "codemirror_mode": {
    "name": "ipython",
    "version": 3
   },
   "file_extension": ".py",
   "mimetype": "text/x-python",
   "name": "python",
   "nbconvert_exporter": "python",
   "pygments_lexer": "ipython3",
   "version": "3.7.12"
  }
 },
 "nbformat": 4,
 "nbformat_minor": 5
}
