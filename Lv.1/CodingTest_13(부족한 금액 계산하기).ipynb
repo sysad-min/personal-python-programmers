{
 "cells": [
  {
   "cell_type": "markdown",
   "id": "bb69cbe3",
   "metadata": {},
   "source": [
    "# 부족한 금액 계산하기"
   ]
  },
  {
   "cell_type": "markdown",
   "id": "878da778",
   "metadata": {},
   "source": [
    "문제 설명  \n",
    "\n",
    "새로 생긴 놀이기구는 인기가 매우 많아 줄이 끊이질 않습니다. 이 놀이기구의 원래 이용료는 price원 인데, 놀이기구를 N 번 째 이용한다면 원래 이용료의 N배를 받기로 하였습니다. 즉, 처음 이용료가 100이었다면 2번째에는 200, 3번째에는 300으로 요금이 인상됩니다.  \n",
    "놀이기구를 count번 타게 되면 현재 자신이 가지고 있는 금액에서 얼마가 모자라는지를 return 하도록 solution 함수를 완성하세요.  \n",
    "단, 금액이 부족하지 않으면 0을 return 하세요.  \n",
    "제한사항  \n",
    "놀이기구의 이용료 price : 1 ≤ price ≤ 2,500, price는 자연수  \n",
    "처음 가지고 있던 금액 money : 1 ≤ money ≤ 1,000,000,000, money는 자연수  \n",
    "놀이기구의 이용 횟수 count : 1 ≤ count ≤ 2,500, count는 자연수  \n",
    "입출력 예  \n",
    "price\tmoney\tcount\tresult  \n",
    "3\t20\t4\t10  \n",
    "입출력 예 설명  \n",
    "입출력 예 #1  \n",
    "이용금액이 3인 놀이기구를 4번 타고 싶은 고객이 현재 가진 금액이 20이라면, 총 필요한 놀이기구의 이용 금액은 30 (= 3+6+9+12) 이 되어 10만큼 부족하므로 10을 return 합니다.  \n",
    "참고 사항  \n",
    "미션 언어는 Java, JavaScript, Python3, C++ 만 해당 됩니다.  \n",
    "같은 코드를 제출한 사람이 여럿이라면 코드를 가장 먼저 제출한 분께 상품을 드립니다.  \n",
    "좋아요 수가 동일할 경우 코드를 가장 먼저 제출한 분께 상품을 드립니다.  "
   ]
  },
  {
   "cell_type": "code",
   "execution_count": 1,
   "id": "86ba5401",
   "metadata": {},
   "outputs": [],
   "source": [
    "def solution(price, money, count):\n",
    "    answer = -1\n",
    "    cntPrice = 0\n",
    "    for c in range(count):\n",
    "        cntPrice += price*(c+1)\n",
    "    if money >= cntPrice:\n",
    "        return 0\n",
    "    else:\n",
    "        return cntPrice-money"
   ]
  },
  {
   "cell_type": "code",
   "execution_count": 2,
   "id": "4e9b9702",
   "metadata": {},
   "outputs": [
    {
     "data": {
      "text/plain": [
       "10"
      ]
     },
     "execution_count": 2,
     "metadata": {},
     "output_type": "execute_result"
    }
   ],
   "source": [
    "solution(3, 20, 4)"
   ]
  },
  {
   "cell_type": "code",
   "execution_count": 3,
   "id": "eed208d0",
   "metadata": {},
   "outputs": [
    {
     "data": {
      "text/plain": [
       "40"
      ]
     },
     "execution_count": 3,
     "metadata": {},
     "output_type": "execute_result"
    }
   ],
   "source": [
    "solution(5, 100, 7)"
   ]
  },
  {
   "cell_type": "code",
   "execution_count": null,
   "id": "532eb45a",
   "metadata": {},
   "outputs": [],
   "source": []
  }
 ],
 "metadata": {
  "kernelspec": {
   "display_name": "py3.7_programmers",
   "language": "python",
   "name": "py3.7_programmers"
  },
  "language_info": {
   "codemirror_mode": {
    "name": "ipython",
    "version": 3
   },
   "file_extension": ".py",
   "mimetype": "text/x-python",
   "name": "python",
   "nbconvert_exporter": "python",
   "pygments_lexer": "ipython3",
   "version": "3.7.12"
  }
 },
 "nbformat": 4,
 "nbformat_minor": 5
}
