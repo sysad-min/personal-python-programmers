{
 "cells": [
  {
   "cell_type": "markdown",
   "id": "bb69cbe3",
   "metadata": {},
   "source": [
    "# 평균 구하기"
   ]
  },
  {
   "cell_type": "markdown",
   "id": "878da778",
   "metadata": {},
   "source": [
    "문제 설명  \n",
    "\n",
    "정수를 담고 있는 배열 arr의 평균값을 return하는 함수, solution을 완성해보세요.  \n",
    "제한사항  \n",
    "arr은 길이 1 이상, 100 이하인 배열입니다.  \n",
    "arr의 원소는 -10,000 이상 10,000 이하인 정수입니다.  \n",
    "입출력 예  \n",
    "arr\treturn  \n",
    "[1,2,3,4]\t2.5  \n",
    "[5,5]\t5  "
   ]
  },
  {
   "cell_type": "code",
   "execution_count": 1,
   "id": "86ba5401",
   "metadata": {},
   "outputs": [],
   "source": [
    "def solution(arr):\n",
    "    answer = 0\n",
    "    for i in arr:\n",
    "        answer+=i\n",
    "    return answer/len(arr)"
   ]
  },
  {
   "cell_type": "code",
   "execution_count": 2,
   "id": "4e9b9702",
   "metadata": {},
   "outputs": [
    {
     "data": {
      "text/plain": [
       "2.5"
      ]
     },
     "execution_count": 2,
     "metadata": {},
     "output_type": "execute_result"
    }
   ],
   "source": [
    "solution([1,2,3,4])"
   ]
  },
  {
   "cell_type": "code",
   "execution_count": 3,
   "id": "eed208d0",
   "metadata": {},
   "outputs": [
    {
     "data": {
      "text/plain": [
       "5.0"
      ]
     },
     "execution_count": 3,
     "metadata": {},
     "output_type": "execute_result"
    }
   ],
   "source": [
    "solution([5,5])"
   ]
  }
 ],
 "metadata": {
  "kernelspec": {
   "display_name": "py3.7_programmers",
   "language": "python",
   "name": "py3.7_programmers"
  },
  "language_info": {
   "codemirror_mode": {
    "name": "ipython",
    "version": 3
   },
   "file_extension": ".py",
   "mimetype": "text/x-python",
   "name": "python",
   "nbconvert_exporter": "python",
   "pygments_lexer": "ipython3",
   "version": "3.7.12"
  }
 },
 "nbformat": 4,
 "nbformat_minor": 5
}
